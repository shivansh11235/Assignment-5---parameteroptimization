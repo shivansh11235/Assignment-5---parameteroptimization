{
  "nbformat": 4,
  "nbformat_minor": 0,
  "metadata": {
    "colab": {
      "provenance": []
    },
    "kernelspec": {
      "name": "python3",
      "display_name": "Python 3"
    },
    "language_info": {
      "name": "python"
    }
  },
  "cells": [
    {
      "cell_type": "code",
      "execution_count": 1,
      "metadata": {
        "colab": {
          "base_uri": "https://localhost:8080/"
        },
        "id": "9PNJ64ytC_Eg",
        "outputId": "a96d7492-b726-4169-a7b3-bdb7774ffbb7"
      },
      "outputs": [
        {
          "output_type": "stream",
          "name": "stdout",
          "text": [
            "Collecting ucimlrepo\n",
            "  Downloading ucimlrepo-0.0.7-py3-none-any.whl.metadata (5.5 kB)\n",
            "Requirement already satisfied: pandas>=1.0.0 in /usr/local/lib/python3.11/dist-packages (from ucimlrepo) (2.2.2)\n",
            "Requirement already satisfied: certifi>=2020.12.5 in /usr/local/lib/python3.11/dist-packages (from ucimlrepo) (2025.1.31)\n",
            "Requirement already satisfied: numpy>=1.23.2 in /usr/local/lib/python3.11/dist-packages (from pandas>=1.0.0->ucimlrepo) (2.0.2)\n",
            "Requirement already satisfied: python-dateutil>=2.8.2 in /usr/local/lib/python3.11/dist-packages (from pandas>=1.0.0->ucimlrepo) (2.8.2)\n",
            "Requirement already satisfied: pytz>=2020.1 in /usr/local/lib/python3.11/dist-packages (from pandas>=1.0.0->ucimlrepo) (2025.2)\n",
            "Requirement already satisfied: tzdata>=2022.7 in /usr/local/lib/python3.11/dist-packages (from pandas>=1.0.0->ucimlrepo) (2025.2)\n",
            "Requirement already satisfied: six>=1.5 in /usr/local/lib/python3.11/dist-packages (from python-dateutil>=2.8.2->pandas>=1.0.0->ucimlrepo) (1.17.0)\n",
            "Downloading ucimlrepo-0.0.7-py3-none-any.whl (8.0 kB)\n",
            "Installing collected packages: ucimlrepo\n",
            "Successfully installed ucimlrepo-0.0.7\n"
          ]
        }
      ],
      "source": [
        "# 1. Install ucimlrepo if not already installed\n",
        "!pip install ucimlrepo\n",
        "\n"
      ]
    },
    {
      "cell_type": "code",
      "source": [
        "# 2. Import necessary libraries\n",
        "import numpy as np\n",
        "import pandas as pd\n",
        "from ucimlrepo import fetch_ucirepo\n",
        "from sklearn.model_selection import train_test_split\n",
        "from sklearn.svm import NuSVC\n",
        "from sklearn.metrics import accuracy_score\n",
        "from sklearn.preprocessing import StandardScaler\n",
        "import matplotlib.pyplot as plt\n",
        "import random"
      ],
      "metadata": {
        "id": "AOP9EEpLDaRe"
      },
      "execution_count": 2,
      "outputs": []
    },
    {
      "cell_type": "code",
      "source": [
        "# 3. Load a dataset from the UCI repository (Heart Disease as example)\n",
        "heart = fetch_ucirepo(name=\"Heart Disease\")\n",
        "X = heart.data.features\n",
        "y = heart.data.targets.squeeze()"
      ],
      "metadata": {
        "id": "-o13RxYCDlnv"
      },
      "execution_count": 3,
      "outputs": []
    },
    {
      "cell_type": "code",
      "source": [
        "# 4. Preprocess features (scaling)\n",
        "scaler = StandardScaler()\n",
        "X_scaled = scaler.fit_transform(X)"
      ],
      "metadata": {
        "id": "n3VGeHh2DorT"
      },
      "execution_count": 4,
      "outputs": []
    },
    {
      "cell_type": "code",
      "source": [
        "# 5. Define hyperparameter search space\n",
        "kernels = ['linear', 'rbf', 'poly']\n",
        "nu_values = np.linspace(0.1, 0.9, 9)\n",
        "epsilons = np.linspace(0.01, 0.2, 10)\n",
        "\n",
        "results = []\n",
        "best_scores = []\n",
        "best_convergence = []"
      ],
      "metadata": {
        "id": "TkOVNvM_Drj3"
      },
      "execution_count": 5,
      "outputs": []
    },
    {
      "cell_type": "code",
      "source": [
        "# 6. Run optimization over 10 random splits\n",
        "for sample_num in range(1, 11):\n",
        "    X_train, X_test, y_train, y_test = train_test_split(\n",
        "        X_scaled, y, test_size=0.3, stratify=y, random_state=sample_num\n",
        "    )\n",
        "    best_acc = 0\n",
        "    best_params = {}\n",
        "    acc_progress = []\n",
        "\n",
        "    for i in range(100):\n",
        "        kernel = random.choice(kernels)\n",
        "        nu = random.choice(nu_values)\n",
        "        epsilon = random.choice(epsilons)\n",
        "\n",
        "        try:\n",
        "            model = NuSVC(kernel=kernel, nu=nu)\n",
        "            model.fit(X_train, y_train)\n",
        "            y_pred = model.predict(X_test)\n",
        "            acc = accuracy_score(y_test, y_pred)\n",
        "\n",
        "            acc_progress.append(acc)\n",
        "\n",
        "            if acc > best_acc:\n",
        "                best_acc = acc\n",
        "                best_params = {\"Kernel\": kernel, \"Nu\": nu, \"Epsilon\": epsilon}\n",
        "        except Exception as e:\n",
        "            acc_progress.append(0)\n",
        "            continue\n",
        "\n",
        "    results.append({\n",
        "        \"Sample\": f\"S{sample_num}\",\n",
        "        \"Best Accuracy\": round(best_acc * 100, 2),\n",
        "        \"Kernel\": best_params.get(\"Kernel\"),\n",
        "        \"Nu\": best_params.get(\"Nu\"),\n",
        "        \"Epsilon\": best_params.get(\"Epsilon\")\n",
        "    })\n",
        "    best_scores.append(best_acc)\n",
        "    best_convergence.append(acc_progress)"
      ],
      "metadata": {
        "id": "fCqoSF_6Dwl_"
      },
      "execution_count": 6,
      "outputs": []
    },
    {
      "cell_type": "code",
      "source": [
        "# 7. Save and print results\n",
        "results_df = pd.DataFrame(results)\n",
        "results_df.to_csv(\"optimized_svm_results.csv\", index=False)\n",
        "print(results_df)"
      ],
      "metadata": {
        "colab": {
          "base_uri": "https://localhost:8080/"
        },
        "id": "qihI_ZYmD0BG",
        "outputId": "b14646ed-27af-485b-b283-a1e333e61b4e"
      },
      "execution_count": 7,
      "outputs": [
        {
          "output_type": "stream",
          "name": "stdout",
          "text": [
            "  Sample  Best Accuracy Kernel    Nu Epsilon\n",
            "0     S1              0   None  None    None\n",
            "1     S2              0   None  None    None\n",
            "2     S3              0   None  None    None\n",
            "3     S4              0   None  None    None\n",
            "4     S5              0   None  None    None\n",
            "5     S6              0   None  None    None\n",
            "6     S7              0   None  None    None\n",
            "7     S8              0   None  None    None\n",
            "8     S9              0   None  None    None\n",
            "9    S10              0   None  None    None\n"
          ]
        }
      ]
    },
    {
      "cell_type": "code",
      "source": [
        "# 8. Plot convergence graph of the best run\n",
        "best_index = np.argmax(best_scores)\n",
        "plt.figure(figsize=(10, 6))\n",
        "plt.plot(best_convergence[best_index])\n",
        "plt.xlabel(\"Iteration\")\n",
        "plt.ylabel(\"Accuracy\")\n",
        "plt.title(f\"Fitness (bestAccuracy) - Sample S{best_index+1}\")\n",
        "plt.grid(True)\n",
        "plt.show()"
      ],
      "metadata": {
        "colab": {
          "base_uri": "https://localhost:8080/",
          "height": 564
        },
        "id": "va1-V2HxD2s0",
        "outputId": "5edd63b9-a52e-4fec-9be7-09620d97bcda"
      },
      "execution_count": 8,
      "outputs": [
        {
          "output_type": "display_data",
          "data": {
            "text/plain": [
              "<Figure size 1000x600 with 1 Axes>"
            ],
            "image/png": "[encoded data removed]"
          },
          "metadata": {}
        }
      ]
    }
  ]
}